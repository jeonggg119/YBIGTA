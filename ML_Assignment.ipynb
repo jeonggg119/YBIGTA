{
  "cells": [
    {
      "cell_type": "markdown",
      "id": "d5c5dc00-7b7f-4fe7-a0a4-f90f69c7e6ce",
      "metadata": {
        "id": "d5c5dc00-7b7f-4fe7-a0a4-f90f69c7e6ce"
      },
      "source": [
        "**2022-1 ML 과제**"
      ]
    },
    {
      "cell_type": "markdown",
      "id": "05720650-7805-4e94-a73f-013ac4fdb483",
      "metadata": {
        "id": "05720650-7805-4e94-a73f-013ac4fdb483"
      },
      "source": [
        "작성자 : 김상회"
      ]
    },
    {
      "cell_type": "markdown",
      "id": "8d4815d7-4aab-4770-af08-c1cab61a24f2",
      "metadata": {
        "id": "8d4815d7-4aab-4770-af08-c1cab61a24f2"
      },
      "source": [
        "Machine Learning 과제는 이전 교육세션에서 배운 \"FE\"와 \"ML\"을 사용하여, 타이타닉 생존 여부를 예측하는 분류 문제에서 직접 모델링 하고 제출까지 해보는 과제 입니다.  \n",
        "  \n",
        "코드는 기초적인 전처리와 Decision Tree를 사용하여 예측을 진행합니다. 필수는 아니지만 주어진 코드 이외에도 다른 모델과 방법들을 자율적으로 사용하여 성능을 높여보시기를 추천드립니다.  \n",
        "  \n",
        "과제하시면서 질문 있으신 분들은 언제든 질문방 or 개인톡으로 연락주세요 :)  \n",
        "+) Ctrl + F에서 \"TODO\"를 찾고 순차적으로 진행하세요"
      ]
    },
    {
      "cell_type": "code",
      "execution_count": 61,
      "id": "8c547e67-f6f4-4af4-8118-04e9041f58c0",
      "metadata": {
        "id": "8c547e67-f6f4-4af4-8118-04e9041f58c0"
      },
      "outputs": [],
      "source": [
        "import pandas as pd\n",
        "import numpy as np"
      ]
    },
    {
      "cell_type": "markdown",
      "id": "4511461c-2ebd-4701-bbf8-50e242efcd68",
      "metadata": {
        "id": "4511461c-2ebd-4701-bbf8-50e242efcd68",
        "tags": []
      },
      "source": [
        "# 데이터셋 로드"
      ]
    },
    {
      "cell_type": "code",
      "source": [
        "from google.colab import drive\n",
        "drive.mount('/content/drive')"
      ],
      "metadata": {
        "colab": {
          "base_uri": "https://localhost:8080/"
        },
        "id": "zV2gh-BLZ8p-",
        "outputId": "1477f0ef-7b16-41c8-8cef-e0e4614143eb"
      },
      "id": "zV2gh-BLZ8p-",
      "execution_count": 62,
      "outputs": [
        {
          "output_type": "stream",
          "name": "stdout",
          "text": [
            "Drive already mounted at /content/drive; to attempt to forcibly remount, call drive.mount(\"/content/drive\", force_remount=True).\n"
          ]
        }
      ]
    },
    {
      "cell_type": "code",
      "execution_count": 63,
      "id": "2e9dadb0-1b50-4710-8b92-f70d5537b440",
      "metadata": {
        "id": "2e9dadb0-1b50-4710-8b92-f70d5537b440"
      },
      "outputs": [],
      "source": [
        "# colab 사용\n",
        "from google.colab import files\n",
        "\n",
        "train = pd.read_csv('/content/drive/MyDrive/Ybigta/ML/Assignment/train_titanic.csv', index_col=0)\n",
        "test = pd.read_csv('/content/drive/MyDrive/Ybigta/ML/Assignment/test_titanic.csv', index_col=0)\n",
        "submission = pd.read_csv('/content/drive/MyDrive/Ybigta/ML/Assignment/submission.csv')"
      ]
    },
    {
      "cell_type": "code",
      "execution_count": 64,
      "id": "0f336437-ece6-4c29-89c6-c59f1385c4c8",
      "metadata": {
        "id": "0f336437-ece6-4c29-89c6-c59f1385c4c8"
      },
      "outputs": [],
      "source": [
        "# local 사용\n",
        "\n",
        "# train = pd.read_csv('train_titanic.csv')\n",
        "# test = pd.read_csv('test_titanic.csv')\n",
        "# submission = pd.read_csv('submission.csv')"
      ]
    },
    {
      "cell_type": "code",
      "execution_count": 65,
      "id": "628f17e3-896c-4717-9c3c-0770fe2cf3c4",
      "metadata": {
        "colab": {
          "base_uri": "https://localhost:8080/",
          "height": 320
        },
        "id": "628f17e3-896c-4717-9c3c-0770fe2cf3c4",
        "outputId": "83fc33aa-0965-41ac-9c4d-2f4c8a8dc3fd"
      },
      "outputs": [
        {
          "output_type": "execute_result",
          "data": {
            "text/html": [
              "\n",
              "  <div id=\"df-8ca00194-5341-4457-9c4d-3b2a36631cda\">\n",
              "    <div class=\"colab-df-container\">\n",
              "      <div>\n",
              "<style scoped>\n",
              "    .dataframe tbody tr th:only-of-type {\n",
              "        vertical-align: middle;\n",
              "    }\n",
              "\n",
              "    .dataframe tbody tr th {\n",
              "        vertical-align: top;\n",
              "    }\n",
              "\n",
              "    .dataframe thead th {\n",
              "        text-align: right;\n",
              "    }\n",
              "</style>\n",
              "<table border=\"1\" class=\"dataframe\">\n",
              "  <thead>\n",
              "    <tr style=\"text-align: right;\">\n",
              "      <th></th>\n",
              "      <th>PassengerId</th>\n",
              "      <th>Survived</th>\n",
              "      <th>Pclass</th>\n",
              "      <th>Name</th>\n",
              "      <th>Sex</th>\n",
              "      <th>Age</th>\n",
              "      <th>SibSp</th>\n",
              "      <th>Parch</th>\n",
              "      <th>Ticket</th>\n",
              "      <th>Fare</th>\n",
              "      <th>Cabin</th>\n",
              "      <th>Embarked</th>\n",
              "    </tr>\n",
              "  </thead>\n",
              "  <tbody>\n",
              "    <tr>\n",
              "      <th>0</th>\n",
              "      <td>1</td>\n",
              "      <td>0</td>\n",
              "      <td>3</td>\n",
              "      <td>Braund, Mr. Owen Harris</td>\n",
              "      <td>male</td>\n",
              "      <td>22.0</td>\n",
              "      <td>1</td>\n",
              "      <td>0</td>\n",
              "      <td>A/5 21171</td>\n",
              "      <td>7.2500</td>\n",
              "      <td>NaN</td>\n",
              "      <td>S</td>\n",
              "    </tr>\n",
              "    <tr>\n",
              "      <th>1</th>\n",
              "      <td>2</td>\n",
              "      <td>1</td>\n",
              "      <td>1</td>\n",
              "      <td>Cumings, Mrs. John Bradley (Florence Briggs Th...</td>\n",
              "      <td>female</td>\n",
              "      <td>38.0</td>\n",
              "      <td>1</td>\n",
              "      <td>0</td>\n",
              "      <td>PC 17599</td>\n",
              "      <td>71.2833</td>\n",
              "      <td>C85</td>\n",
              "      <td>C</td>\n",
              "    </tr>\n",
              "    <tr>\n",
              "      <th>2</th>\n",
              "      <td>3</td>\n",
              "      <td>1</td>\n",
              "      <td>3</td>\n",
              "      <td>Heikkinen, Miss. Laina</td>\n",
              "      <td>female</td>\n",
              "      <td>26.0</td>\n",
              "      <td>0</td>\n",
              "      <td>0</td>\n",
              "      <td>STON/O2. 3101282</td>\n",
              "      <td>7.9250</td>\n",
              "      <td>NaN</td>\n",
              "      <td>S</td>\n",
              "    </tr>\n",
              "    <tr>\n",
              "      <th>3</th>\n",
              "      <td>4</td>\n",
              "      <td>1</td>\n",
              "      <td>1</td>\n",
              "      <td>Futrelle, Mrs. Jacques Heath (Lily May Peel)</td>\n",
              "      <td>female</td>\n",
              "      <td>35.0</td>\n",
              "      <td>1</td>\n",
              "      <td>0</td>\n",
              "      <td>113803</td>\n",
              "      <td>53.1000</td>\n",
              "      <td>C123</td>\n",
              "      <td>S</td>\n",
              "    </tr>\n",
              "    <tr>\n",
              "      <th>4</th>\n",
              "      <td>5</td>\n",
              "      <td>0</td>\n",
              "      <td>3</td>\n",
              "      <td>Allen, Mr. William Henry</td>\n",
              "      <td>male</td>\n",
              "      <td>35.0</td>\n",
              "      <td>0</td>\n",
              "      <td>0</td>\n",
              "      <td>373450</td>\n",
              "      <td>8.0500</td>\n",
              "      <td>NaN</td>\n",
              "      <td>S</td>\n",
              "    </tr>\n",
              "  </tbody>\n",
              "</table>\n",
              "</div>\n",
              "      <button class=\"colab-df-convert\" onclick=\"convertToInteractive('df-8ca00194-5341-4457-9c4d-3b2a36631cda')\"\n",
              "              title=\"Convert this dataframe to an interactive table.\"\n",
              "              style=\"display:none;\">\n",
              "        \n",
              "  <svg xmlns=\"http://www.w3.org/2000/svg\" height=\"24px\"viewBox=\"0 0 24 24\"\n",
              "       width=\"24px\">\n",
              "    <path d=\"M0 0h24v24H0V0z\" fill=\"none\"/>\n",
              "    <path d=\"M18.56 5.44l.94 2.06.94-2.06 2.06-.94-2.06-.94-.94-2.06-.94 2.06-2.06.94zm-11 1L8.5 8.5l.94-2.06 2.06-.94-2.06-.94L8.5 2.5l-.94 2.06-2.06.94zm10 10l.94 2.06.94-2.06 2.06-.94-2.06-.94-.94-2.06-.94 2.06-2.06.94z\"/><path d=\"M17.41 7.96l-1.37-1.37c-.4-.4-.92-.59-1.43-.59-.52 0-1.04.2-1.43.59L10.3 9.45l-7.72 7.72c-.78.78-.78 2.05 0 2.83L4 21.41c.39.39.9.59 1.41.59.51 0 1.02-.2 1.41-.59l7.78-7.78 2.81-2.81c.8-.78.8-2.07 0-2.86zM5.41 20L4 18.59l7.72-7.72 1.47 1.35L5.41 20z\"/>\n",
              "  </svg>\n",
              "      </button>\n",
              "      \n",
              "  <style>\n",
              "    .colab-df-container {\n",
              "      display:flex;\n",
              "      flex-wrap:wrap;\n",
              "      gap: 12px;\n",
              "    }\n",
              "\n",
              "    .colab-df-convert {\n",
              "      background-color: #E8F0FE;\n",
              "      border: none;\n",
              "      border-radius: 50%;\n",
              "      cursor: pointer;\n",
              "      display: none;\n",
              "      fill: #1967D2;\n",
              "      height: 32px;\n",
              "      padding: 0 0 0 0;\n",
              "      width: 32px;\n",
              "    }\n",
              "\n",
              "    .colab-df-convert:hover {\n",
              "      background-color: #E2EBFA;\n",
              "      box-shadow: 0px 1px 2px rgba(60, 64, 67, 0.3), 0px 1px 3px 1px rgba(60, 64, 67, 0.15);\n",
              "      fill: #174EA6;\n",
              "    }\n",
              "\n",
              "    [theme=dark] .colab-df-convert {\n",
              "      background-color: #3B4455;\n",
              "      fill: #D2E3FC;\n",
              "    }\n",
              "\n",
              "    [theme=dark] .colab-df-convert:hover {\n",
              "      background-color: #434B5C;\n",
              "      box-shadow: 0px 1px 3px 1px rgba(0, 0, 0, 0.15);\n",
              "      filter: drop-shadow(0px 1px 2px rgba(0, 0, 0, 0.3));\n",
              "      fill: #FFFFFF;\n",
              "    }\n",
              "  </style>\n",
              "\n",
              "      <script>\n",
              "        const buttonEl =\n",
              "          document.querySelector('#df-8ca00194-5341-4457-9c4d-3b2a36631cda button.colab-df-convert');\n",
              "        buttonEl.style.display =\n",
              "          google.colab.kernel.accessAllowed ? 'block' : 'none';\n",
              "\n",
              "        async function convertToInteractive(key) {\n",
              "          const element = document.querySelector('#df-8ca00194-5341-4457-9c4d-3b2a36631cda');\n",
              "          const dataTable =\n",
              "            await google.colab.kernel.invokeFunction('convertToInteractive',\n",
              "                                                     [key], {});\n",
              "          if (!dataTable) return;\n",
              "\n",
              "          const docLinkHtml = 'Like what you see? Visit the ' +\n",
              "            '<a target=\"_blank\" href=https://colab.research.google.com/notebooks/data_table.ipynb>data table notebook</a>'\n",
              "            + ' to learn more about interactive tables.';\n",
              "          element.innerHTML = '';\n",
              "          dataTable['output_type'] = 'display_data';\n",
              "          await google.colab.output.renderOutput(dataTable, element);\n",
              "          const docLink = document.createElement('div');\n",
              "          docLink.innerHTML = docLinkHtml;\n",
              "          element.appendChild(docLink);\n",
              "        }\n",
              "      </script>\n",
              "    </div>\n",
              "  </div>\n",
              "  "
            ],
            "text/plain": [
              "   PassengerId  Survived  Pclass  ...     Fare Cabin  Embarked\n",
              "0            1         0       3  ...   7.2500   NaN         S\n",
              "1            2         1       1  ...  71.2833   C85         C\n",
              "2            3         1       3  ...   7.9250   NaN         S\n",
              "3            4         1       1  ...  53.1000  C123         S\n",
              "4            5         0       3  ...   8.0500   NaN         S\n",
              "\n",
              "[5 rows x 12 columns]"
            ]
          },
          "metadata": {},
          "execution_count": 65
        }
      ],
      "source": [
        "train.head()"
      ]
    },
    {
      "cell_type": "code",
      "execution_count": 66,
      "id": "b0e2ed52-9b70-4f8d-8134-fc41b525673e",
      "metadata": {
        "id": "b0e2ed52-9b70-4f8d-8134-fc41b525673e",
        "outputId": "29f46d43-887a-4a8d-805c-f3e4cd27a47d",
        "colab": {
          "base_uri": "https://localhost:8080/",
          "height": 267
        }
      },
      "outputs": [
        {
          "output_type": "execute_result",
          "data": {
            "text/html": [
              "\n",
              "  <div id=\"df-06f4409a-1cd5-46da-8a38-d0229141e0d8\">\n",
              "    <div class=\"colab-df-container\">\n",
              "      <div>\n",
              "<style scoped>\n",
              "    .dataframe tbody tr th:only-of-type {\n",
              "        vertical-align: middle;\n",
              "    }\n",
              "\n",
              "    .dataframe tbody tr th {\n",
              "        vertical-align: top;\n",
              "    }\n",
              "\n",
              "    .dataframe thead th {\n",
              "        text-align: right;\n",
              "    }\n",
              "</style>\n",
              "<table border=\"1\" class=\"dataframe\">\n",
              "  <thead>\n",
              "    <tr style=\"text-align: right;\">\n",
              "      <th></th>\n",
              "      <th>PassengerId</th>\n",
              "      <th>Pclass</th>\n",
              "      <th>Name</th>\n",
              "      <th>Sex</th>\n",
              "      <th>Age</th>\n",
              "      <th>SibSp</th>\n",
              "      <th>Parch</th>\n",
              "      <th>Ticket</th>\n",
              "      <th>Fare</th>\n",
              "      <th>Cabin</th>\n",
              "      <th>Embarked</th>\n",
              "    </tr>\n",
              "  </thead>\n",
              "  <tbody>\n",
              "    <tr>\n",
              "      <th>0</th>\n",
              "      <td>892</td>\n",
              "      <td>3</td>\n",
              "      <td>Kelly, Mr. James</td>\n",
              "      <td>male</td>\n",
              "      <td>34.5</td>\n",
              "      <td>0</td>\n",
              "      <td>0</td>\n",
              "      <td>330911</td>\n",
              "      <td>7.8292</td>\n",
              "      <td>NaN</td>\n",
              "      <td>Q</td>\n",
              "    </tr>\n",
              "    <tr>\n",
              "      <th>1</th>\n",
              "      <td>893</td>\n",
              "      <td>3</td>\n",
              "      <td>Wilkes, Mrs. James (Ellen Needs)</td>\n",
              "      <td>female</td>\n",
              "      <td>47.0</td>\n",
              "      <td>1</td>\n",
              "      <td>0</td>\n",
              "      <td>363272</td>\n",
              "      <td>7.0000</td>\n",
              "      <td>NaN</td>\n",
              "      <td>S</td>\n",
              "    </tr>\n",
              "    <tr>\n",
              "      <th>2</th>\n",
              "      <td>894</td>\n",
              "      <td>2</td>\n",
              "      <td>Myles, Mr. Thomas Francis</td>\n",
              "      <td>male</td>\n",
              "      <td>62.0</td>\n",
              "      <td>0</td>\n",
              "      <td>0</td>\n",
              "      <td>240276</td>\n",
              "      <td>9.6875</td>\n",
              "      <td>NaN</td>\n",
              "      <td>Q</td>\n",
              "    </tr>\n",
              "    <tr>\n",
              "      <th>3</th>\n",
              "      <td>895</td>\n",
              "      <td>3</td>\n",
              "      <td>Wirz, Mr. Albert</td>\n",
              "      <td>male</td>\n",
              "      <td>27.0</td>\n",
              "      <td>0</td>\n",
              "      <td>0</td>\n",
              "      <td>315154</td>\n",
              "      <td>8.6625</td>\n",
              "      <td>NaN</td>\n",
              "      <td>S</td>\n",
              "    </tr>\n",
              "    <tr>\n",
              "      <th>4</th>\n",
              "      <td>896</td>\n",
              "      <td>3</td>\n",
              "      <td>Hirvonen, Mrs. Alexander (Helga E Lindqvist)</td>\n",
              "      <td>female</td>\n",
              "      <td>22.0</td>\n",
              "      <td>1</td>\n",
              "      <td>1</td>\n",
              "      <td>3101298</td>\n",
              "      <td>12.2875</td>\n",
              "      <td>NaN</td>\n",
              "      <td>S</td>\n",
              "    </tr>\n",
              "  </tbody>\n",
              "</table>\n",
              "</div>\n",
              "      <button class=\"colab-df-convert\" onclick=\"convertToInteractive('df-06f4409a-1cd5-46da-8a38-d0229141e0d8')\"\n",
              "              title=\"Convert this dataframe to an interactive table.\"\n",
              "              style=\"display:none;\">\n",
              "        \n",
              "  <svg xmlns=\"http://www.w3.org/2000/svg\" height=\"24px\"viewBox=\"0 0 24 24\"\n",
              "       width=\"24px\">\n",
              "    <path d=\"M0 0h24v24H0V0z\" fill=\"none\"/>\n",
              "    <path d=\"M18.56 5.44l.94 2.06.94-2.06 2.06-.94-2.06-.94-.94-2.06-.94 2.06-2.06.94zm-11 1L8.5 8.5l.94-2.06 2.06-.94-2.06-.94L8.5 2.5l-.94 2.06-2.06.94zm10 10l.94 2.06.94-2.06 2.06-.94-2.06-.94-.94-2.06-.94 2.06-2.06.94z\"/><path d=\"M17.41 7.96l-1.37-1.37c-.4-.4-.92-.59-1.43-.59-.52 0-1.04.2-1.43.59L10.3 9.45l-7.72 7.72c-.78.78-.78 2.05 0 2.83L4 21.41c.39.39.9.59 1.41.59.51 0 1.02-.2 1.41-.59l7.78-7.78 2.81-2.81c.8-.78.8-2.07 0-2.86zM5.41 20L4 18.59l7.72-7.72 1.47 1.35L5.41 20z\"/>\n",
              "  </svg>\n",
              "      </button>\n",
              "      \n",
              "  <style>\n",
              "    .colab-df-container {\n",
              "      display:flex;\n",
              "      flex-wrap:wrap;\n",
              "      gap: 12px;\n",
              "    }\n",
              "\n",
              "    .colab-df-convert {\n",
              "      background-color: #E8F0FE;\n",
              "      border: none;\n",
              "      border-radius: 50%;\n",
              "      cursor: pointer;\n",
              "      display: none;\n",
              "      fill: #1967D2;\n",
              "      height: 32px;\n",
              "      padding: 0 0 0 0;\n",
              "      width: 32px;\n",
              "    }\n",
              "\n",
              "    .colab-df-convert:hover {\n",
              "      background-color: #E2EBFA;\n",
              "      box-shadow: 0px 1px 2px rgba(60, 64, 67, 0.3), 0px 1px 3px 1px rgba(60, 64, 67, 0.15);\n",
              "      fill: #174EA6;\n",
              "    }\n",
              "\n",
              "    [theme=dark] .colab-df-convert {\n",
              "      background-color: #3B4455;\n",
              "      fill: #D2E3FC;\n",
              "    }\n",
              "\n",
              "    [theme=dark] .colab-df-convert:hover {\n",
              "      background-color: #434B5C;\n",
              "      box-shadow: 0px 1px 3px 1px rgba(0, 0, 0, 0.15);\n",
              "      filter: drop-shadow(0px 1px 2px rgba(0, 0, 0, 0.3));\n",
              "      fill: #FFFFFF;\n",
              "    }\n",
              "  </style>\n",
              "\n",
              "      <script>\n",
              "        const buttonEl =\n",
              "          document.querySelector('#df-06f4409a-1cd5-46da-8a38-d0229141e0d8 button.colab-df-convert');\n",
              "        buttonEl.style.display =\n",
              "          google.colab.kernel.accessAllowed ? 'block' : 'none';\n",
              "\n",
              "        async function convertToInteractive(key) {\n",
              "          const element = document.querySelector('#df-06f4409a-1cd5-46da-8a38-d0229141e0d8');\n",
              "          const dataTable =\n",
              "            await google.colab.kernel.invokeFunction('convertToInteractive',\n",
              "                                                     [key], {});\n",
              "          if (!dataTable) return;\n",
              "\n",
              "          const docLinkHtml = 'Like what you see? Visit the ' +\n",
              "            '<a target=\"_blank\" href=https://colab.research.google.com/notebooks/data_table.ipynb>data table notebook</a>'\n",
              "            + ' to learn more about interactive tables.';\n",
              "          element.innerHTML = '';\n",
              "          dataTable['output_type'] = 'display_data';\n",
              "          await google.colab.output.renderOutput(dataTable, element);\n",
              "          const docLink = document.createElement('div');\n",
              "          docLink.innerHTML = docLinkHtml;\n",
              "          element.appendChild(docLink);\n",
              "        }\n",
              "      </script>\n",
              "    </div>\n",
              "  </div>\n",
              "  "
            ],
            "text/plain": [
              "   PassengerId  Pclass  ... Cabin Embarked\n",
              "0          892       3  ...   NaN        Q\n",
              "1          893       3  ...   NaN        S\n",
              "2          894       2  ...   NaN        Q\n",
              "3          895       3  ...   NaN        S\n",
              "4          896       3  ...   NaN        S\n",
              "\n",
              "[5 rows x 11 columns]"
            ]
          },
          "metadata": {},
          "execution_count": 66
        }
      ],
      "source": [
        "test.head()"
      ]
    },
    {
      "cell_type": "code",
      "execution_count": 67,
      "id": "5d31a9b0-155e-47d8-981b-468b5494f703",
      "metadata": {
        "id": "5d31a9b0-155e-47d8-981b-468b5494f703",
        "outputId": "3b35ab0b-1948-43f5-8cf2-7a3ce92c3d9a",
        "colab": {
          "base_uri": "https://localhost:8080/",
          "height": 205
        }
      },
      "outputs": [
        {
          "output_type": "execute_result",
          "data": {
            "text/html": [
              "\n",
              "  <div id=\"df-f6a86899-cc29-440f-b13c-63c48e5d1149\">\n",
              "    <div class=\"colab-df-container\">\n",
              "      <div>\n",
              "<style scoped>\n",
              "    .dataframe tbody tr th:only-of-type {\n",
              "        vertical-align: middle;\n",
              "    }\n",
              "\n",
              "    .dataframe tbody tr th {\n",
              "        vertical-align: top;\n",
              "    }\n",
              "\n",
              "    .dataframe thead th {\n",
              "        text-align: right;\n",
              "    }\n",
              "</style>\n",
              "<table border=\"1\" class=\"dataframe\">\n",
              "  <thead>\n",
              "    <tr style=\"text-align: right;\">\n",
              "      <th></th>\n",
              "      <th>PassengerId</th>\n",
              "      <th>Survived</th>\n",
              "    </tr>\n",
              "  </thead>\n",
              "  <tbody>\n",
              "    <tr>\n",
              "      <th>0</th>\n",
              "      <td>892</td>\n",
              "      <td>0</td>\n",
              "    </tr>\n",
              "    <tr>\n",
              "      <th>1</th>\n",
              "      <td>893</td>\n",
              "      <td>0</td>\n",
              "    </tr>\n",
              "    <tr>\n",
              "      <th>2</th>\n",
              "      <td>894</td>\n",
              "      <td>0</td>\n",
              "    </tr>\n",
              "    <tr>\n",
              "      <th>3</th>\n",
              "      <td>895</td>\n",
              "      <td>0</td>\n",
              "    </tr>\n",
              "    <tr>\n",
              "      <th>4</th>\n",
              "      <td>896</td>\n",
              "      <td>0</td>\n",
              "    </tr>\n",
              "  </tbody>\n",
              "</table>\n",
              "</div>\n",
              "      <button class=\"colab-df-convert\" onclick=\"convertToInteractive('df-f6a86899-cc29-440f-b13c-63c48e5d1149')\"\n",
              "              title=\"Convert this dataframe to an interactive table.\"\n",
              "              style=\"display:none;\">\n",
              "        \n",
              "  <svg xmlns=\"http://www.w3.org/2000/svg\" height=\"24px\"viewBox=\"0 0 24 24\"\n",
              "       width=\"24px\">\n",
              "    <path d=\"M0 0h24v24H0V0z\" fill=\"none\"/>\n",
              "    <path d=\"M18.56 5.44l.94 2.06.94-2.06 2.06-.94-2.06-.94-.94-2.06-.94 2.06-2.06.94zm-11 1L8.5 8.5l.94-2.06 2.06-.94-2.06-.94L8.5 2.5l-.94 2.06-2.06.94zm10 10l.94 2.06.94-2.06 2.06-.94-2.06-.94-.94-2.06-.94 2.06-2.06.94z\"/><path d=\"M17.41 7.96l-1.37-1.37c-.4-.4-.92-.59-1.43-.59-.52 0-1.04.2-1.43.59L10.3 9.45l-7.72 7.72c-.78.78-.78 2.05 0 2.83L4 21.41c.39.39.9.59 1.41.59.51 0 1.02-.2 1.41-.59l7.78-7.78 2.81-2.81c.8-.78.8-2.07 0-2.86zM5.41 20L4 18.59l7.72-7.72 1.47 1.35L5.41 20z\"/>\n",
              "  </svg>\n",
              "      </button>\n",
              "      \n",
              "  <style>\n",
              "    .colab-df-container {\n",
              "      display:flex;\n",
              "      flex-wrap:wrap;\n",
              "      gap: 12px;\n",
              "    }\n",
              "\n",
              "    .colab-df-convert {\n",
              "      background-color: #E8F0FE;\n",
              "      border: none;\n",
              "      border-radius: 50%;\n",
              "      cursor: pointer;\n",
              "      display: none;\n",
              "      fill: #1967D2;\n",
              "      height: 32px;\n",
              "      padding: 0 0 0 0;\n",
              "      width: 32px;\n",
              "    }\n",
              "\n",
              "    .colab-df-convert:hover {\n",
              "      background-color: #E2EBFA;\n",
              "      box-shadow: 0px 1px 2px rgba(60, 64, 67, 0.3), 0px 1px 3px 1px rgba(60, 64, 67, 0.15);\n",
              "      fill: #174EA6;\n",
              "    }\n",
              "\n",
              "    [theme=dark] .colab-df-convert {\n",
              "      background-color: #3B4455;\n",
              "      fill: #D2E3FC;\n",
              "    }\n",
              "\n",
              "    [theme=dark] .colab-df-convert:hover {\n",
              "      background-color: #434B5C;\n",
              "      box-shadow: 0px 1px 3px 1px rgba(0, 0, 0, 0.15);\n",
              "      filter: drop-shadow(0px 1px 2px rgba(0, 0, 0, 0.3));\n",
              "      fill: #FFFFFF;\n",
              "    }\n",
              "  </style>\n",
              "\n",
              "      <script>\n",
              "        const buttonEl =\n",
              "          document.querySelector('#df-f6a86899-cc29-440f-b13c-63c48e5d1149 button.colab-df-convert');\n",
              "        buttonEl.style.display =\n",
              "          google.colab.kernel.accessAllowed ? 'block' : 'none';\n",
              "\n",
              "        async function convertToInteractive(key) {\n",
              "          const element = document.querySelector('#df-f6a86899-cc29-440f-b13c-63c48e5d1149');\n",
              "          const dataTable =\n",
              "            await google.colab.kernel.invokeFunction('convertToInteractive',\n",
              "                                                     [key], {});\n",
              "          if (!dataTable) return;\n",
              "\n",
              "          const docLinkHtml = 'Like what you see? Visit the ' +\n",
              "            '<a target=\"_blank\" href=https://colab.research.google.com/notebooks/data_table.ipynb>data table notebook</a>'\n",
              "            + ' to learn more about interactive tables.';\n",
              "          element.innerHTML = '';\n",
              "          dataTable['output_type'] = 'display_data';\n",
              "          await google.colab.output.renderOutput(dataTable, element);\n",
              "          const docLink = document.createElement('div');\n",
              "          docLink.innerHTML = docLinkHtml;\n",
              "          element.appendChild(docLink);\n",
              "        }\n",
              "      </script>\n",
              "    </div>\n",
              "  </div>\n",
              "  "
            ],
            "text/plain": [
              "   PassengerId  Survived\n",
              "0          892         0\n",
              "1          893         0\n",
              "2          894         0\n",
              "3          895         0\n",
              "4          896         0"
            ]
          },
          "metadata": {},
          "execution_count": 67
        }
      ],
      "source": [
        "submission.head()"
      ]
    },
    {
      "cell_type": "markdown",
      "id": "e95bbd81-30ae-44ee-8841-f546a340fbb5",
      "metadata": {
        "id": "e95bbd81-30ae-44ee-8841-f546a340fbb5"
      },
      "source": [
        "# 간단한 전처리"
      ]
    },
    {
      "cell_type": "markdown",
      "id": "88f81d68-c4a4-462f-9df6-7cc7250f8f3b",
      "metadata": {
        "tags": [],
        "id": "88f81d68-c4a4-462f-9df6-7cc7250f8f3b"
      },
      "source": [
        "## 결측치 Drop  \n",
        "결측치가 있는 column은 drop하도록 하겠습니다. 성능을 높이기 위해 drop하지 않고 다른 방법을 사용할 수 있습니다.  \n",
        "ex) Embarked는 두명만 결측치인데 해당 값을 채워주는 방식"
      ]
    },
    {
      "cell_type": "code",
      "execution_count": 68,
      "id": "78025b24-49a7-4c63-b9f9-eadce5e5f759",
      "metadata": {
        "id": "78025b24-49a7-4c63-b9f9-eadce5e5f759",
        "outputId": "2d21130a-a9dd-42c9-81af-e2c8421731f3",
        "colab": {
          "base_uri": "https://localhost:8080/"
        }
      },
      "outputs": [
        {
          "output_type": "execute_result",
          "data": {
            "text/plain": [
              "PassengerId      0\n",
              "Survived         0\n",
              "Pclass           0\n",
              "Name             0\n",
              "Sex              0\n",
              "Age            177\n",
              "SibSp            0\n",
              "Parch            0\n",
              "Ticket           0\n",
              "Fare             0\n",
              "Cabin          687\n",
              "Embarked         2\n",
              "dtype: int64"
            ]
          },
          "metadata": {},
          "execution_count": 68
        }
      ],
      "source": [
        "#결측치의 수\n",
        "train.isnull().sum()"
      ]
    },
    {
      "cell_type": "code",
      "execution_count": 69,
      "id": "14ec957b-33f1-48f3-8771-b222a3da0104",
      "metadata": {
        "id": "14ec957b-33f1-48f3-8771-b222a3da0104"
      },
      "outputs": [],
      "source": [
        "train_dropna = train.drop(columns=[\"Age\", \"Cabin\", \"Embarked\"])"
      ]
    },
    {
      "cell_type": "markdown",
      "id": "334ef514-9ad5-457a-895b-bd7ae0a4c387",
      "metadata": {
        "id": "334ef514-9ad5-457a-895b-bd7ae0a4c387"
      },
      "source": [
        "## 카테고리 변수  "
      ]
    },
    {
      "cell_type": "code",
      "execution_count": 70,
      "id": "bf862f66-3eb6-4d2d-b694-b21ee436d4ad",
      "metadata": {
        "id": "bf862f66-3eb6-4d2d-b694-b21ee436d4ad",
        "outputId": "fc7652bd-05f9-49ef-d07f-ffd4f5d9a520",
        "colab": {
          "base_uri": "https://localhost:8080/"
        }
      },
      "outputs": [
        {
          "output_type": "execute_result",
          "data": {
            "text/plain": [
              "PassengerId      int64\n",
              "Survived         int64\n",
              "Pclass           int64\n",
              "Name            object\n",
              "Sex             object\n",
              "SibSp            int64\n",
              "Parch            int64\n",
              "Ticket          object\n",
              "Fare           float64\n",
              "dtype: object"
            ]
          },
          "metadata": {},
          "execution_count": 70
        }
      ],
      "source": [
        "# object 변수 찾기\n",
        "train_dropna.dtypes"
      ]
    },
    {
      "cell_type": "code",
      "execution_count": 71,
      "id": "81f6ff2f-f7a6-491c-ab08-29324d49d3be",
      "metadata": {
        "id": "81f6ff2f-f7a6-491c-ab08-29324d49d3be",
        "outputId": "9bb670e4-6f36-4765-91ce-cbb5ba2e2713",
        "colab": {
          "base_uri": "https://localhost:8080/"
        }
      },
      "outputs": [
        {
          "output_type": "execute_result",
          "data": {
            "text/plain": [
              "Name      891\n",
              "Sex         2\n",
              "Ticket    681\n",
              "dtype: int64"
            ]
          },
          "metadata": {},
          "execution_count": 71
        }
      ],
      "source": [
        "# object 변수 안에 몇개의 값이 존재하는 지 -> nunique() 사용\n",
        "train_dropna[[\"Name\", \"Sex\", \"Ticket\"]].nunique()"
      ]
    },
    {
      "cell_type": "code",
      "execution_count": 72,
      "id": "3dac0e60-0ee3-48ae-bf3e-cb1ecae984c6",
      "metadata": {
        "id": "3dac0e60-0ee3-48ae-bf3e-cb1ecae984c6",
        "outputId": "a1538246-6d01-4a38-cdf6-19643f6330d7",
        "colab": {
          "base_uri": "https://localhost:8080/",
          "height": 205
        }
      },
      "outputs": [
        {
          "output_type": "execute_result",
          "data": {
            "text/html": [
              "\n",
              "  <div id=\"df-c7f7f924-1593-439b-8dc5-50b1e051a7ad\">\n",
              "    <div class=\"colab-df-container\">\n",
              "      <div>\n",
              "<style scoped>\n",
              "    .dataframe tbody tr th:only-of-type {\n",
              "        vertical-align: middle;\n",
              "    }\n",
              "\n",
              "    .dataframe tbody tr th {\n",
              "        vertical-align: top;\n",
              "    }\n",
              "\n",
              "    .dataframe thead th {\n",
              "        text-align: right;\n",
              "    }\n",
              "</style>\n",
              "<table border=\"1\" class=\"dataframe\">\n",
              "  <thead>\n",
              "    <tr style=\"text-align: right;\">\n",
              "      <th></th>\n",
              "      <th>PassengerId</th>\n",
              "      <th>Survived</th>\n",
              "      <th>Pclass</th>\n",
              "      <th>SibSp</th>\n",
              "      <th>Parch</th>\n",
              "      <th>Fare</th>\n",
              "      <th>Sex_female</th>\n",
              "      <th>Sex_male</th>\n",
              "    </tr>\n",
              "  </thead>\n",
              "  <tbody>\n",
              "    <tr>\n",
              "      <th>0</th>\n",
              "      <td>1</td>\n",
              "      <td>0</td>\n",
              "      <td>3</td>\n",
              "      <td>1</td>\n",
              "      <td>0</td>\n",
              "      <td>7.2500</td>\n",
              "      <td>0</td>\n",
              "      <td>1</td>\n",
              "    </tr>\n",
              "    <tr>\n",
              "      <th>1</th>\n",
              "      <td>2</td>\n",
              "      <td>1</td>\n",
              "      <td>1</td>\n",
              "      <td>1</td>\n",
              "      <td>0</td>\n",
              "      <td>71.2833</td>\n",
              "      <td>1</td>\n",
              "      <td>0</td>\n",
              "    </tr>\n",
              "    <tr>\n",
              "      <th>2</th>\n",
              "      <td>3</td>\n",
              "      <td>1</td>\n",
              "      <td>3</td>\n",
              "      <td>0</td>\n",
              "      <td>0</td>\n",
              "      <td>7.9250</td>\n",
              "      <td>1</td>\n",
              "      <td>0</td>\n",
              "    </tr>\n",
              "    <tr>\n",
              "      <th>3</th>\n",
              "      <td>4</td>\n",
              "      <td>1</td>\n",
              "      <td>1</td>\n",
              "      <td>1</td>\n",
              "      <td>0</td>\n",
              "      <td>53.1000</td>\n",
              "      <td>1</td>\n",
              "      <td>0</td>\n",
              "    </tr>\n",
              "    <tr>\n",
              "      <th>4</th>\n",
              "      <td>5</td>\n",
              "      <td>0</td>\n",
              "      <td>3</td>\n",
              "      <td>0</td>\n",
              "      <td>0</td>\n",
              "      <td>8.0500</td>\n",
              "      <td>0</td>\n",
              "      <td>1</td>\n",
              "    </tr>\n",
              "  </tbody>\n",
              "</table>\n",
              "</div>\n",
              "      <button class=\"colab-df-convert\" onclick=\"convertToInteractive('df-c7f7f924-1593-439b-8dc5-50b1e051a7ad')\"\n",
              "              title=\"Convert this dataframe to an interactive table.\"\n",
              "              style=\"display:none;\">\n",
              "        \n",
              "  <svg xmlns=\"http://www.w3.org/2000/svg\" height=\"24px\"viewBox=\"0 0 24 24\"\n",
              "       width=\"24px\">\n",
              "    <path d=\"M0 0h24v24H0V0z\" fill=\"none\"/>\n",
              "    <path d=\"M18.56 5.44l.94 2.06.94-2.06 2.06-.94-2.06-.94-.94-2.06-.94 2.06-2.06.94zm-11 1L8.5 8.5l.94-2.06 2.06-.94-2.06-.94L8.5 2.5l-.94 2.06-2.06.94zm10 10l.94 2.06.94-2.06 2.06-.94-2.06-.94-.94-2.06-.94 2.06-2.06.94z\"/><path d=\"M17.41 7.96l-1.37-1.37c-.4-.4-.92-.59-1.43-.59-.52 0-1.04.2-1.43.59L10.3 9.45l-7.72 7.72c-.78.78-.78 2.05 0 2.83L4 21.41c.39.39.9.59 1.41.59.51 0 1.02-.2 1.41-.59l7.78-7.78 2.81-2.81c.8-.78.8-2.07 0-2.86zM5.41 20L4 18.59l7.72-7.72 1.47 1.35L5.41 20z\"/>\n",
              "  </svg>\n",
              "      </button>\n",
              "      \n",
              "  <style>\n",
              "    .colab-df-container {\n",
              "      display:flex;\n",
              "      flex-wrap:wrap;\n",
              "      gap: 12px;\n",
              "    }\n",
              "\n",
              "    .colab-df-convert {\n",
              "      background-color: #E8F0FE;\n",
              "      border: none;\n",
              "      border-radius: 50%;\n",
              "      cursor: pointer;\n",
              "      display: none;\n",
              "      fill: #1967D2;\n",
              "      height: 32px;\n",
              "      padding: 0 0 0 0;\n",
              "      width: 32px;\n",
              "    }\n",
              "\n",
              "    .colab-df-convert:hover {\n",
              "      background-color: #E2EBFA;\n",
              "      box-shadow: 0px 1px 2px rgba(60, 64, 67, 0.3), 0px 1px 3px 1px rgba(60, 64, 67, 0.15);\n",
              "      fill: #174EA6;\n",
              "    }\n",
              "\n",
              "    [theme=dark] .colab-df-convert {\n",
              "      background-color: #3B4455;\n",
              "      fill: #D2E3FC;\n",
              "    }\n",
              "\n",
              "    [theme=dark] .colab-df-convert:hover {\n",
              "      background-color: #434B5C;\n",
              "      box-shadow: 0px 1px 3px 1px rgba(0, 0, 0, 0.15);\n",
              "      filter: drop-shadow(0px 1px 2px rgba(0, 0, 0, 0.3));\n",
              "      fill: #FFFFFF;\n",
              "    }\n",
              "  </style>\n",
              "\n",
              "      <script>\n",
              "        const buttonEl =\n",
              "          document.querySelector('#df-c7f7f924-1593-439b-8dc5-50b1e051a7ad button.colab-df-convert');\n",
              "        buttonEl.style.display =\n",
              "          google.colab.kernel.accessAllowed ? 'block' : 'none';\n",
              "\n",
              "        async function convertToInteractive(key) {\n",
              "          const element = document.querySelector('#df-c7f7f924-1593-439b-8dc5-50b1e051a7ad');\n",
              "          const dataTable =\n",
              "            await google.colab.kernel.invokeFunction('convertToInteractive',\n",
              "                                                     [key], {});\n",
              "          if (!dataTable) return;\n",
              "\n",
              "          const docLinkHtml = 'Like what you see? Visit the ' +\n",
              "            '<a target=\"_blank\" href=https://colab.research.google.com/notebooks/data_table.ipynb>data table notebook</a>'\n",
              "            + ' to learn more about interactive tables.';\n",
              "          element.innerHTML = '';\n",
              "          dataTable['output_type'] = 'display_data';\n",
              "          await google.colab.output.renderOutput(dataTable, element);\n",
              "          const docLink = document.createElement('div');\n",
              "          docLink.innerHTML = docLinkHtml;\n",
              "          element.appendChild(docLink);\n",
              "        }\n",
              "      </script>\n",
              "    </div>\n",
              "  </div>\n",
              "  "
            ],
            "text/plain": [
              "   PassengerId  Survived  Pclass  SibSp  Parch     Fare  Sex_female  Sex_male\n",
              "0            1         0       3      1      0   7.2500           0         1\n",
              "1            2         1       1      1      0  71.2833           1         0\n",
              "2            3         1       3      0      0   7.9250           1         0\n",
              "3            4         1       1      1      0  53.1000           1         0\n",
              "4            5         0       3      0      0   8.0500           0         1"
            ]
          },
          "metadata": {},
          "execution_count": 72
        }
      ],
      "source": [
        "# Name과 Ticket은 수가 많기 때문에 drop하고 Sex는 남녀 두개이기 때문에 더미화 진행합니다.\n",
        "train_object = train_dropna.drop(columns=[\"Name\", \"Ticket\"])\n",
        "train_object = pd.get_dummies(train_object, columns=[\"Sex\"]) # 더미화 진행 -> pd.get_dummiex()\n",
        "train_object.head()"
      ]
    },
    {
      "cell_type": "markdown",
      "id": "425fb8bc-36ea-4268-90e9-96d4e5c7211a",
      "metadata": {
        "id": "425fb8bc-36ea-4268-90e9-96d4e5c7211a"
      },
      "source": [
        "# Train Valid Split  \n",
        "전처리가 끝난 Train Set을 검증을 위한 Validation Set으로 나눠줍니다."
      ]
    },
    {
      "cell_type": "code",
      "execution_count": 73,
      "id": "c3503b9f-4fe9-4e99-8ef0-54ce1c6e8d3d",
      "metadata": {
        "id": "c3503b9f-4fe9-4e99-8ef0-54ce1c6e8d3d"
      },
      "outputs": [],
      "source": [
        "# X와 y 설정\n",
        "target = \"Survived\"\n",
        "X = train_object.drop(columns=[target])\n",
        "y = train_object[target]"
      ]
    },
    {
      "cell_type": "code",
      "execution_count": 74,
      "id": "cbc00c05-a1af-4451-b224-6c865438c4f6",
      "metadata": {
        "id": "cbc00c05-a1af-4451-b224-6c865438c4f6"
      },
      "outputs": [],
      "source": [
        "# Train Test Split\n",
        "from sklearn.model_selection import train_test_split\n",
        "\n",
        "# TODO 1) X와 y를 train valid로 split\n",
        "X_train, X_valid, y_train, y_valid = train_test_split(X, y, test_size = 0.2, random_state = 616, stratify=y)"
      ]
    },
    {
      "cell_type": "code",
      "execution_count": 75,
      "id": "93f6d0e7-6d2c-44ae-829c-47f087ec094c",
      "metadata": {
        "id": "93f6d0e7-6d2c-44ae-829c-47f087ec094c",
        "outputId": "7655654a-b270-4177-a3e6-d1dd9d7545be",
        "colab": {
          "base_uri": "https://localhost:8080/"
        }
      },
      "outputs": [
        {
          "output_type": "stream",
          "name": "stdout",
          "text": [
            "X_train shape : (712, 7), X_valid shape : (179, 7)\n"
          ]
        }
      ],
      "source": [
        "print(f\"X_train shape : {X_train.shape}, X_valid shape : {X_valid.shape}\")"
      ]
    },
    {
      "cell_type": "code",
      "execution_count": 76,
      "id": "2f681482-2088-447f-a1e3-68592a0e467a",
      "metadata": {
        "id": "2f681482-2088-447f-a1e3-68592a0e467a",
        "outputId": "e6e5cb75-4f2a-4e42-fb08-dbac01c65842",
        "colab": {
          "base_uri": "https://localhost:8080/"
        }
      },
      "outputs": [
        {
          "output_type": "stream",
          "name": "stdout",
          "text": [
            "0    0.616573\n",
            "1    0.383427\n",
            "Name: Survived, dtype: float64\n",
            "0    0.614525\n",
            "1    0.385475\n",
            "Name: Survived, dtype: float64\n"
          ]
        }
      ],
      "source": [
        "# train과 valid의 y값 비율이 같아야 함\n",
        "\n",
        "print(y_train.value_counts(normalize=True))\n",
        "print(y_valid.value_counts(normalize=True))"
      ]
    },
    {
      "cell_type": "markdown",
      "id": "83349681-eae6-4703-9933-70876238d526",
      "metadata": {
        "id": "83349681-eae6-4703-9933-70876238d526"
      },
      "source": [
        "# 모델 학습  \n",
        "기본 Decision Tree를 사용하여 생존 여부를 예측하고 Grid Search를 사용하였을 때와 Validation Set에서의 성능을 비교합니다."
      ]
    },
    {
      "cell_type": "markdown",
      "id": "aaa40c36-176e-49f9-8b07-4f8a319b7126",
      "metadata": {
        "id": "aaa40c36-176e-49f9-8b07-4f8a319b7126"
      },
      "source": [
        "## 기본 DT"
      ]
    },
    {
      "cell_type": "code",
      "execution_count": 77,
      "id": "25a6fd08-bdcb-4265-8a7a-4f5a9edab6a6",
      "metadata": {
        "id": "25a6fd08-bdcb-4265-8a7a-4f5a9edab6a6"
      },
      "outputs": [],
      "source": [
        "# 기본 Decision Tree 예측\n",
        "from sklearn.tree import DecisionTreeClassifier\n",
        "\n",
        "# 모델 선언\n",
        "dt = DecisionTreeClassifier() \n",
        "\n",
        "# 모델 학습\n",
        "# TODO 2) 모델을 train 데이터에 맞춰 학습(fit)시키세요\n",
        "dt.fit(X_train, y_train)\n",
        "\n",
        "# Validation Set에 예측\n",
        "# TODO 3) 학습한 모델로 valid 값을 예측하세요\n",
        "pred_valid = dt.predict(X_valid)"
      ]
    },
    {
      "cell_type": "code",
      "source": [
        "# 모델 예측 성능을 검증하기 위해 confusion matrix와 Accuracy, f1 score를 확인합니다.\n",
        "\n",
        "from sklearn.metrics import accuracy_score, f1_score, roc_auc_score, confusion_matrix, classification_report\n",
        "\n",
        "# confusion matrix\n",
        "matrix = confusion_matrix(y_valid, pred_valid)\n",
        "print(matrix)\n",
        "\n",
        "# Accuracy\n",
        "acc = accuracy_score(y_valid, pred_valid)\n",
        "print('Accuracy: {:.2f}'.format(acc))\n",
        "\n",
        "# f1 score\n",
        "f1 = f1_score(y_valid, pred_valid)\n",
        "print('F1_Score: {:.2f}'.format(f1))"
      ],
      "metadata": {
        "colab": {
          "base_uri": "https://localhost:8080/"
        },
        "id": "5Ad4DRC4ckiw",
        "outputId": "26a6be4a-0c57-49fa-e3c5-8b38ddb3eab7"
      },
      "id": "5Ad4DRC4ckiw",
      "execution_count": 78,
      "outputs": [
        {
          "output_type": "stream",
          "name": "stdout",
          "text": [
            "[[88 22]\n",
            " [20 49]]\n",
            "Accuracy: 0.77\n",
            "F1_Score: 0.70\n"
          ]
        }
      ]
    },
    {
      "cell_type": "markdown",
      "id": "1267336c-cf28-40cd-b1bf-a42398839ad2",
      "metadata": {
        "id": "1267336c-cf28-40cd-b1bf-a42398839ad2"
      },
      "source": [
        "## Grid Search"
      ]
    },
    {
      "cell_type": "code",
      "execution_count": 79,
      "id": "d47edb44-e3b8-4cc9-ad52-27fb17bbf5ee",
      "metadata": {
        "id": "d47edb44-e3b8-4cc9-ad52-27fb17bbf5ee"
      },
      "outputs": [],
      "source": [
        "from sklearn.model_selection import GridSearchCV\n",
        "grid_dt = DecisionTreeClassifier()\n",
        "\n",
        "# TODO 4)\n",
        "# 테스트 하고 싶은 parameter 값들을 parameter 별로 sequence 구조의 데이터(list, numpy array, etc...)에 넣어줍니다.\n",
        "# 이 때 변수 이름은 꼭 모델 parameter 이름과 동일할 필요는 없습니다.\n",
        "\n",
        "max_depth = [2,3,4,5,6,7]\n",
        "max_leaf = [8,12,16,20,24,28,32]\n",
        "\n",
        "#위의 세 parameter를 하나로 묶기 위해서 다음과 같은 Dictionary 형태로 만들어줍니다.\n",
        "#여기서 key 값은 str 형태로, 정확하게 모델 parameter 이름과 동일해야 합니다.\n",
        "\n",
        "parameter_grid = {'max_depth': max_depth,\n",
        "                  'max_leaf_nodes': max_leaf}"
      ]
    },
    {
      "cell_type": "code",
      "execution_count": 80,
      "id": "af4bb1a3-6a1c-4295-87dc-857a11696afe",
      "metadata": {
        "id": "af4bb1a3-6a1c-4295-87dc-857a11696afe",
        "colab": {
          "base_uri": "https://localhost:8080/"
        },
        "outputId": "e549c105-2a97-4fc9-f1a0-b8de96484c52"
      },
      "outputs": [
        {
          "output_type": "execute_result",
          "data": {
            "text/plain": [
              "GridSearchCV(estimator=DecisionTreeClassifier(),\n",
              "             param_grid={'max_depth': [2, 3, 4, 5, 6, 7],\n",
              "                         'max_leaf_nodes': [8, 12, 16, 20, 24, 28, 32]})"
            ]
          },
          "metadata": {},
          "execution_count": 80
        }
      ],
      "source": [
        "gs = GridSearchCV(estimator= grid_dt, param_grid= parameter_grid) \n",
        "gs.fit(X_train, y_train) "
      ]
    },
    {
      "cell_type": "code",
      "execution_count": 81,
      "id": "2a4875c1-55a2-44b9-b77e-752fcaebd146",
      "metadata": {
        "id": "2a4875c1-55a2-44b9-b77e-752fcaebd146",
        "colab": {
          "base_uri": "https://localhost:8080/"
        },
        "outputId": "38ce90e2-86dd-4e19-a39b-19706113f394"
      },
      "outputs": [
        {
          "output_type": "stream",
          "name": "stdout",
          "text": [
            "GridSearch 최적 parameter: {'max_depth': 3, 'max_leaf_nodes': 8}\n",
            "GridSearch 최고 Validation Score: 0.798\n"
          ]
        }
      ],
      "source": [
        "print('GridSearch 최적 parameter: {}'.format(gs.best_params_),\n",
        "      'GridSearch 최고 Validation Score: {:.3f}'.format(gs.best_score_), sep = '\\n')"
      ]
    },
    {
      "cell_type": "code",
      "execution_count": 82,
      "id": "3bdffc24-dd75-4f3e-9737-750fded3d3e8",
      "metadata": {
        "id": "3bdffc24-dd75-4f3e-9737-750fded3d3e8"
      },
      "outputs": [],
      "source": [
        "# Grid Search로 찾은 최적의 파라미터 값으로 모델 생성\n",
        "# TODO 5)\n",
        "dt_grid = DecisionTreeClassifier(max_depth=3, max_leaf_nodes=8) \n",
        "\n",
        "dt_grid.fit(X_train, y_train) \n",
        "pred_valid_grid = dt_grid.predict(X_valid)"
      ]
    },
    {
      "cell_type": "code",
      "execution_count": 83,
      "id": "19e3a16b-0d68-438e-a0ad-4106128ccf80",
      "metadata": {
        "id": "19e3a16b-0d68-438e-a0ad-4106128ccf80",
        "outputId": "461b58c3-be5a-4e33-cbd3-f656a94bd2e1",
        "colab": {
          "base_uri": "https://localhost:8080/"
        }
      },
      "outputs": [
        {
          "output_type": "stream",
          "name": "stdout",
          "text": [
            "[[101   9]\n",
            " [ 19  50]]\n",
            "Accuracy: 0.84\n",
            "F1_Score: 0.78\n"
          ]
        }
      ],
      "source": [
        "# 모델 예측 성능을 검증하기 위해 confusion matrix와 Accuracy, f1 score를 확인합니다.\n",
        "from sklearn.metrics import accuracy_score, f1_score, roc_auc_score, confusion_matrix, classification_report\n",
        "\n",
        "# confusion matrix\n",
        "matrix = confusion_matrix(y_valid, pred_valid_grid)\n",
        "print(matrix)\n",
        "\n",
        "# Accuracy\n",
        "acc = accuracy_score(y_valid, pred_valid_grid)\n",
        "print('Accuracy: {:.2f}'.format(acc))\n",
        "\n",
        "# f1 score\n",
        "f1 = f1_score(y_valid, pred_valid_grid)\n",
        "print('F1_Score: {:.2f}'.format(f1))"
      ]
    },
    {
      "cell_type": "markdown",
      "source": [
        "다양한 모델 사용해보기"
      ],
      "metadata": {
        "id": "p61NLnTfebC1"
      },
      "id": "p61NLnTfebC1"
    },
    {
      "cell_type": "code",
      "source": [
        "dt_clf = DecisionTreeClassifier(max_depth=3, max_leaf_nodes=8) \n",
        "dt_clf.fit(X_train, y_train) \n",
        "prediction = dt_clf.predict(X_valid)\n",
        "\n",
        "print(\"--Vanilla Decision Tree--\")\n",
        "print(\"\")\n",
        "print('Accuracy:: {:.2f}'.format(accuracy_score(y_valid, prediction)),\n",
        "      'F1_Score:: {:.2f}'.format(f1_score(y_valid, prediction)),\n",
        "      'ROC_AUC_Score:: {:.2f}'.format(roc_auc_score(y_valid, prediction)), sep = '\\n')"
      ],
      "metadata": {
        "colab": {
          "base_uri": "https://localhost:8080/"
        },
        "id": "aicR1jGUeZ1X",
        "outputId": "66044f4e-57cd-47eb-e882-5999dae12de9"
      },
      "id": "aicR1jGUeZ1X",
      "execution_count": 84,
      "outputs": [
        {
          "output_type": "stream",
          "name": "stdout",
          "text": [
            "--Vanilla Decision Tree--\n",
            "\n",
            "Accuracy:: 0.84\n",
            "F1_Score:: 0.78\n",
            "ROC_AUC_Score:: 0.82\n"
          ]
        }
      ]
    },
    {
      "cell_type": "code",
      "source": [
        "from sklearn.linear_model import LogisticRegression\n",
        "logistic_clf = LogisticRegression() \n",
        "logistic_clf.fit(X_train, y_train) \n",
        "prediction = logistic_clf.predict(X_valid)\n",
        "\n",
        "print(\"--Vanilla Logistic Regression--\")\n",
        "print(\"\")\n",
        "print('Accuracy:: {:.2f}'.format(accuracy_score(y_valid, prediction)),\n",
        "      'F1_Score:: {:.2f}'.format(f1_score(y_valid, prediction)),\n",
        "      'ROC_AUC_Score:: {:.2f}'.format(roc_auc_score(y_valid, prediction)), sep = '\\n')"
      ],
      "metadata": {
        "colab": {
          "base_uri": "https://localhost:8080/"
        },
        "id": "TYxNCDJles77",
        "outputId": "ceee050c-d94d-4e73-f37e-4f15a9650e0c"
      },
      "id": "TYxNCDJles77",
      "execution_count": 85,
      "outputs": [
        {
          "output_type": "stream",
          "name": "stdout",
          "text": [
            "--Vanilla Logistic Regression--\n",
            "\n",
            "Accuracy:: 0.83\n",
            "F1_Score:: 0.77\n",
            "ROC_AUC_Score:: 0.81\n"
          ]
        },
        {
          "output_type": "stream",
          "name": "stderr",
          "text": [
            "/usr/local/lib/python3.7/dist-packages/sklearn/linear_model/_logistic.py:818: ConvergenceWarning: lbfgs failed to converge (status=1):\n",
            "STOP: TOTAL NO. of ITERATIONS REACHED LIMIT.\n",
            "\n",
            "Increase the number of iterations (max_iter) or scale the data as shown in:\n",
            "    https://scikit-learn.org/stable/modules/preprocessing.html\n",
            "Please also refer to the documentation for alternative solver options:\n",
            "    https://scikit-learn.org/stable/modules/linear_model.html#logistic-regression\n",
            "  extra_warning_msg=_LOGISTIC_SOLVER_CONVERGENCE_MSG,\n"
          ]
        }
      ]
    },
    {
      "cell_type": "code",
      "source": [
        "from sklearn import svm\n",
        "svm_clf = svm.SVC(kernel='linear') # 다양한 커널 설정 가능\n",
        "svm_clf.fit(X_train, y_train) \n",
        "prediction = svm_clf.predict(X_valid)\n",
        "\n",
        "print(\"--Linear Kernel SVM--\")\n",
        "print(\"\")\n",
        "print('Accuracy:: {:.2f}'.format(accuracy_score(y_valid, prediction)),\n",
        "      'F1_Score:: {:.2f}'.format(f1_score(y_valid, prediction)),\n",
        "      'ROC_AUC_Score:: {:.2f}'.format(roc_auc_score(y_valid, prediction)), sep = '\\n')"
      ],
      "metadata": {
        "colab": {
          "base_uri": "https://localhost:8080/"
        },
        "id": "vsrLC2-yfAzn",
        "outputId": "71941ddb-8b98-4f1a-d49b-bd4de6beb9d9"
      },
      "id": "vsrLC2-yfAzn",
      "execution_count": 86,
      "outputs": [
        {
          "output_type": "stream",
          "name": "stdout",
          "text": [
            "--Linear Kernel SVM--\n",
            "\n",
            "Accuracy:: 0.82\n",
            "F1_Score:: 0.75\n",
            "ROC_AUC_Score:: 0.80\n"
          ]
        }
      ]
    },
    {
      "cell_type": "code",
      "source": [
        "from xgboost import XGBClassifier\n",
        "xgb_clf = XGBClassifier() \n",
        "xgb_clf.fit(X_train, y_train) \n",
        "prediction = xgb_clf.predict(X_valid)\n",
        "\n",
        "print(\"--Vanilla XGB--\")\n",
        "print(\"\")\n",
        "print('Accuracy:: {:.2f}'.format(accuracy_score(y_valid, prediction)),\n",
        "      'F1_Score:: {:.2f}'.format(f1_score(y_valid, prediction)),\n",
        "      'ROC_AUC_Score:: {:.2f}'.format(roc_auc_score(y_valid, prediction)), sep = '\\n')"
      ],
      "metadata": {
        "colab": {
          "base_uri": "https://localhost:8080/"
        },
        "id": "dHEk8dPpfSiE",
        "outputId": "8fbd4d4c-7bac-4d52-88cc-307fb52a628c"
      },
      "id": "dHEk8dPpfSiE",
      "execution_count": 87,
      "outputs": [
        {
          "output_type": "stream",
          "name": "stdout",
          "text": [
            "--Vanilla XGB--\n",
            "\n",
            "Accuracy:: 0.83\n",
            "F1_Score:: 0.75\n",
            "ROC_AUC_Score:: 0.80\n"
          ]
        }
      ]
    },
    {
      "cell_type": "markdown",
      "id": "5f19d712-d26a-43e7-9106-39500e245bfd",
      "metadata": {
        "id": "5f19d712-d26a-43e7-9106-39500e245bfd"
      },
      "source": [
        "# Test Data 예측"
      ]
    },
    {
      "cell_type": "markdown",
      "id": "cecfe454-aaa0-40cc-a692-971d13b925f6",
      "metadata": {
        "id": "cecfe454-aaa0-40cc-a692-971d13b925f6"
      },
      "source": [
        "## 전처리  \n",
        "예측을 진행하기에 앞서 train에서 진행한 전처리 과정을 동일하게 적용해야 합니다.  \n",
        "전처리 방법이 달라질 경우 결과도 다르게 나옵니다!  \n",
        "(전처리 과정을 pipeline으로 만들어서 진행하기도 함 --> \"전처리 pipeline\" 검색)"
      ]
    },
    {
      "cell_type": "markdown",
      "id": "fd97a8c0-0ab0-4217-a87f-95abaa1b5f0b",
      "metadata": {
        "tags": [],
        "id": "fd97a8c0-0ab0-4217-a87f-95abaa1b5f0b"
      },
      "source": [
        "### 결측치 Drop  \n",
        "Drop [\"Age\", \"Cabin\", \"Embarked\"] Columns"
      ]
    },
    {
      "cell_type": "code",
      "execution_count": 88,
      "id": "44030e46-5677-4fba-91d5-351813086926",
      "metadata": {
        "id": "44030e46-5677-4fba-91d5-351813086926"
      },
      "outputs": [],
      "source": [
        "test_dropna = test.drop(columns=[\"Age\", \"Cabin\", \"Embarked\"])"
      ]
    },
    {
      "cell_type": "markdown",
      "id": "d98e5ff2-f266-42bc-8feb-79c456d41f69",
      "metadata": {
        "id": "d98e5ff2-f266-42bc-8feb-79c456d41f69"
      },
      "source": [
        "### 카테고리 변수  "
      ]
    },
    {
      "cell_type": "code",
      "execution_count": 89,
      "id": "741e5f1e-d622-4834-9cc2-aade25ff8a27",
      "metadata": {
        "id": "741e5f1e-d622-4834-9cc2-aade25ff8a27",
        "outputId": "5dfad874-529e-483a-e1e5-af3a9f244c94",
        "colab": {
          "base_uri": "https://localhost:8080/",
          "height": 205
        }
      },
      "outputs": [
        {
          "output_type": "execute_result",
          "data": {
            "text/html": [
              "\n",
              "  <div id=\"df-8c1691ee-d2a0-4bc8-b9b5-c7704d5161ca\">\n",
              "    <div class=\"colab-df-container\">\n",
              "      <div>\n",
              "<style scoped>\n",
              "    .dataframe tbody tr th:only-of-type {\n",
              "        vertical-align: middle;\n",
              "    }\n",
              "\n",
              "    .dataframe tbody tr th {\n",
              "        vertical-align: top;\n",
              "    }\n",
              "\n",
              "    .dataframe thead th {\n",
              "        text-align: right;\n",
              "    }\n",
              "</style>\n",
              "<table border=\"1\" class=\"dataframe\">\n",
              "  <thead>\n",
              "    <tr style=\"text-align: right;\">\n",
              "      <th></th>\n",
              "      <th>PassengerId</th>\n",
              "      <th>Pclass</th>\n",
              "      <th>SibSp</th>\n",
              "      <th>Parch</th>\n",
              "      <th>Fare</th>\n",
              "      <th>Sex_female</th>\n",
              "      <th>Sex_male</th>\n",
              "    </tr>\n",
              "  </thead>\n",
              "  <tbody>\n",
              "    <tr>\n",
              "      <th>0</th>\n",
              "      <td>892</td>\n",
              "      <td>3</td>\n",
              "      <td>0</td>\n",
              "      <td>0</td>\n",
              "      <td>7.8292</td>\n",
              "      <td>0</td>\n",
              "      <td>1</td>\n",
              "    </tr>\n",
              "    <tr>\n",
              "      <th>1</th>\n",
              "      <td>893</td>\n",
              "      <td>3</td>\n",
              "      <td>1</td>\n",
              "      <td>0</td>\n",
              "      <td>7.0000</td>\n",
              "      <td>1</td>\n",
              "      <td>0</td>\n",
              "    </tr>\n",
              "    <tr>\n",
              "      <th>2</th>\n",
              "      <td>894</td>\n",
              "      <td>2</td>\n",
              "      <td>0</td>\n",
              "      <td>0</td>\n",
              "      <td>9.6875</td>\n",
              "      <td>0</td>\n",
              "      <td>1</td>\n",
              "    </tr>\n",
              "    <tr>\n",
              "      <th>3</th>\n",
              "      <td>895</td>\n",
              "      <td>3</td>\n",
              "      <td>0</td>\n",
              "      <td>0</td>\n",
              "      <td>8.6625</td>\n",
              "      <td>0</td>\n",
              "      <td>1</td>\n",
              "    </tr>\n",
              "    <tr>\n",
              "      <th>4</th>\n",
              "      <td>896</td>\n",
              "      <td>3</td>\n",
              "      <td>1</td>\n",
              "      <td>1</td>\n",
              "      <td>12.2875</td>\n",
              "      <td>1</td>\n",
              "      <td>0</td>\n",
              "    </tr>\n",
              "  </tbody>\n",
              "</table>\n",
              "</div>\n",
              "      <button class=\"colab-df-convert\" onclick=\"convertToInteractive('df-8c1691ee-d2a0-4bc8-b9b5-c7704d5161ca')\"\n",
              "              title=\"Convert this dataframe to an interactive table.\"\n",
              "              style=\"display:none;\">\n",
              "        \n",
              "  <svg xmlns=\"http://www.w3.org/2000/svg\" height=\"24px\"viewBox=\"0 0 24 24\"\n",
              "       width=\"24px\">\n",
              "    <path d=\"M0 0h24v24H0V0z\" fill=\"none\"/>\n",
              "    <path d=\"M18.56 5.44l.94 2.06.94-2.06 2.06-.94-2.06-.94-.94-2.06-.94 2.06-2.06.94zm-11 1L8.5 8.5l.94-2.06 2.06-.94-2.06-.94L8.5 2.5l-.94 2.06-2.06.94zm10 10l.94 2.06.94-2.06 2.06-.94-2.06-.94-.94-2.06-.94 2.06-2.06.94z\"/><path d=\"M17.41 7.96l-1.37-1.37c-.4-.4-.92-.59-1.43-.59-.52 0-1.04.2-1.43.59L10.3 9.45l-7.72 7.72c-.78.78-.78 2.05 0 2.83L4 21.41c.39.39.9.59 1.41.59.51 0 1.02-.2 1.41-.59l7.78-7.78 2.81-2.81c.8-.78.8-2.07 0-2.86zM5.41 20L4 18.59l7.72-7.72 1.47 1.35L5.41 20z\"/>\n",
              "  </svg>\n",
              "      </button>\n",
              "      \n",
              "  <style>\n",
              "    .colab-df-container {\n",
              "      display:flex;\n",
              "      flex-wrap:wrap;\n",
              "      gap: 12px;\n",
              "    }\n",
              "\n",
              "    .colab-df-convert {\n",
              "      background-color: #E8F0FE;\n",
              "      border: none;\n",
              "      border-radius: 50%;\n",
              "      cursor: pointer;\n",
              "      display: none;\n",
              "      fill: #1967D2;\n",
              "      height: 32px;\n",
              "      padding: 0 0 0 0;\n",
              "      width: 32px;\n",
              "    }\n",
              "\n",
              "    .colab-df-convert:hover {\n",
              "      background-color: #E2EBFA;\n",
              "      box-shadow: 0px 1px 2px rgba(60, 64, 67, 0.3), 0px 1px 3px 1px rgba(60, 64, 67, 0.15);\n",
              "      fill: #174EA6;\n",
              "    }\n",
              "\n",
              "    [theme=dark] .colab-df-convert {\n",
              "      background-color: #3B4455;\n",
              "      fill: #D2E3FC;\n",
              "    }\n",
              "\n",
              "    [theme=dark] .colab-df-convert:hover {\n",
              "      background-color: #434B5C;\n",
              "      box-shadow: 0px 1px 3px 1px rgba(0, 0, 0, 0.15);\n",
              "      filter: drop-shadow(0px 1px 2px rgba(0, 0, 0, 0.3));\n",
              "      fill: #FFFFFF;\n",
              "    }\n",
              "  </style>\n",
              "\n",
              "      <script>\n",
              "        const buttonEl =\n",
              "          document.querySelector('#df-8c1691ee-d2a0-4bc8-b9b5-c7704d5161ca button.colab-df-convert');\n",
              "        buttonEl.style.display =\n",
              "          google.colab.kernel.accessAllowed ? 'block' : 'none';\n",
              "\n",
              "        async function convertToInteractive(key) {\n",
              "          const element = document.querySelector('#df-8c1691ee-d2a0-4bc8-b9b5-c7704d5161ca');\n",
              "          const dataTable =\n",
              "            await google.colab.kernel.invokeFunction('convertToInteractive',\n",
              "                                                     [key], {});\n",
              "          if (!dataTable) return;\n",
              "\n",
              "          const docLinkHtml = 'Like what you see? Visit the ' +\n",
              "            '<a target=\"_blank\" href=https://colab.research.google.com/notebooks/data_table.ipynb>data table notebook</a>'\n",
              "            + ' to learn more about interactive tables.';\n",
              "          element.innerHTML = '';\n",
              "          dataTable['output_type'] = 'display_data';\n",
              "          await google.colab.output.renderOutput(dataTable, element);\n",
              "          const docLink = document.createElement('div');\n",
              "          docLink.innerHTML = docLinkHtml;\n",
              "          element.appendChild(docLink);\n",
              "        }\n",
              "      </script>\n",
              "    </div>\n",
              "  </div>\n",
              "  "
            ],
            "text/plain": [
              "   PassengerId  Pclass  SibSp  Parch     Fare  Sex_female  Sex_male\n",
              "0          892       3      0      0   7.8292           0         1\n",
              "1          893       3      1      0   7.0000           1         0\n",
              "2          894       2      0      0   9.6875           0         1\n",
              "3          895       3      0      0   8.6625           0         1\n",
              "4          896       3      1      1  12.2875           1         0"
            ]
          },
          "metadata": {},
          "execution_count": 89
        }
      ],
      "source": [
        "# Name과 Ticket은 수가 많기 때문에 drop하고 Sex는 남녀 두개이기 때문에 더미화 진행합니다.\n",
        "test_object = test_dropna.drop(columns=[\"Name\", \"Ticket\"])\n",
        "test_object = pd.get_dummies(test_object, columns=[\"Sex\"]) # 더미화 진행 -> pd.get_dummiex()\n",
        "test_object.head()"
      ]
    },
    {
      "cell_type": "markdown",
      "id": "a1a15e12-43a7-489c-b636-173c177f24a0",
      "metadata": {
        "id": "a1a15e12-43a7-489c-b636-173c177f24a0"
      },
      "source": [
        "### 추가 결측치 전처리  \n",
        "Fare 항목의 결측치가 존재하므로 해당 결측치를 처리해줘야함 -> train의 데이터는 Fare 행이 존재하기 때문에 drop 불가 -> 평균값으로 대체"
      ]
    },
    {
      "cell_type": "code",
      "execution_count": 90,
      "id": "2a1af042-9af4-4e01-aa74-5b417f04fa3d",
      "metadata": {
        "id": "2a1af042-9af4-4e01-aa74-5b417f04fa3d",
        "outputId": "09d27f23-5325-4390-e0d9-ba9f828e81bb",
        "colab": {
          "base_uri": "https://localhost:8080/"
        }
      },
      "outputs": [
        {
          "output_type": "execute_result",
          "data": {
            "text/plain": [
              "PassengerId    0\n",
              "Pclass         0\n",
              "SibSp          0\n",
              "Parch          0\n",
              "Fare           1\n",
              "Sex_female     0\n",
              "Sex_male       0\n",
              "dtype: int64"
            ]
          },
          "metadata": {},
          "execution_count": 90
        }
      ],
      "source": [
        "test_object.isna().sum()"
      ]
    },
    {
      "cell_type": "code",
      "execution_count": 91,
      "id": "f9238064-3299-42e6-99b6-c927fdd3c282",
      "metadata": {
        "id": "f9238064-3299-42e6-99b6-c927fdd3c282"
      },
      "outputs": [],
      "source": [
        "test_fillna = test_object.fillna(test_object.mean()) # fillna(df.mean())을 사용하여 결측치 채우기"
      ]
    },
    {
      "cell_type": "markdown",
      "id": "002eae57-e34a-49a2-9496-e2f19fcb1ce3",
      "metadata": {
        "id": "002eae57-e34a-49a2-9496-e2f19fcb1ce3"
      },
      "source": [
        "## 예측"
      ]
    },
    {
      "cell_type": "code",
      "execution_count": 92,
      "id": "4fc4c086-3c7e-4d42-b78f-f62a0a668b7a",
      "metadata": {
        "id": "4fc4c086-3c7e-4d42-b78f-f62a0a668b7a"
      },
      "outputs": [],
      "source": [
        "# grid search 이용 모델\n",
        "pred = dt_grid.predict(test_fillna)"
      ]
    },
    {
      "cell_type": "code",
      "execution_count": 93,
      "id": "62a1e809-2f41-456c-8457-ecdd2d8136c0",
      "metadata": {
        "id": "62a1e809-2f41-456c-8457-ecdd2d8136c0",
        "colab": {
          "base_uri": "https://localhost:8080/",
          "height": 205
        },
        "outputId": "e5b61b9b-df8a-4d32-f36e-f24f667989f1"
      },
      "outputs": [
        {
          "output_type": "execute_result",
          "data": {
            "text/html": [
              "\n",
              "  <div id=\"df-ab5702fe-0d70-4726-a08e-5fc6e46c8d97\">\n",
              "    <div class=\"colab-df-container\">\n",
              "      <div>\n",
              "<style scoped>\n",
              "    .dataframe tbody tr th:only-of-type {\n",
              "        vertical-align: middle;\n",
              "    }\n",
              "\n",
              "    .dataframe tbody tr th {\n",
              "        vertical-align: top;\n",
              "    }\n",
              "\n",
              "    .dataframe thead th {\n",
              "        text-align: right;\n",
              "    }\n",
              "</style>\n",
              "<table border=\"1\" class=\"dataframe\">\n",
              "  <thead>\n",
              "    <tr style=\"text-align: right;\">\n",
              "      <th></th>\n",
              "      <th>PassengerId</th>\n",
              "      <th>Survived</th>\n",
              "    </tr>\n",
              "  </thead>\n",
              "  <tbody>\n",
              "    <tr>\n",
              "      <th>0</th>\n",
              "      <td>892</td>\n",
              "      <td>0</td>\n",
              "    </tr>\n",
              "    <tr>\n",
              "      <th>1</th>\n",
              "      <td>893</td>\n",
              "      <td>1</td>\n",
              "    </tr>\n",
              "    <tr>\n",
              "      <th>2</th>\n",
              "      <td>894</td>\n",
              "      <td>0</td>\n",
              "    </tr>\n",
              "    <tr>\n",
              "      <th>3</th>\n",
              "      <td>895</td>\n",
              "      <td>0</td>\n",
              "    </tr>\n",
              "    <tr>\n",
              "      <th>4</th>\n",
              "      <td>896</td>\n",
              "      <td>1</td>\n",
              "    </tr>\n",
              "  </tbody>\n",
              "</table>\n",
              "</div>\n",
              "      <button class=\"colab-df-convert\" onclick=\"convertToInteractive('df-ab5702fe-0d70-4726-a08e-5fc6e46c8d97')\"\n",
              "              title=\"Convert this dataframe to an interactive table.\"\n",
              "              style=\"display:none;\">\n",
              "        \n",
              "  <svg xmlns=\"http://www.w3.org/2000/svg\" height=\"24px\"viewBox=\"0 0 24 24\"\n",
              "       width=\"24px\">\n",
              "    <path d=\"M0 0h24v24H0V0z\" fill=\"none\"/>\n",
              "    <path d=\"M18.56 5.44l.94 2.06.94-2.06 2.06-.94-2.06-.94-.94-2.06-.94 2.06-2.06.94zm-11 1L8.5 8.5l.94-2.06 2.06-.94-2.06-.94L8.5 2.5l-.94 2.06-2.06.94zm10 10l.94 2.06.94-2.06 2.06-.94-2.06-.94-.94-2.06-.94 2.06-2.06.94z\"/><path d=\"M17.41 7.96l-1.37-1.37c-.4-.4-.92-.59-1.43-.59-.52 0-1.04.2-1.43.59L10.3 9.45l-7.72 7.72c-.78.78-.78 2.05 0 2.83L4 21.41c.39.39.9.59 1.41.59.51 0 1.02-.2 1.41-.59l7.78-7.78 2.81-2.81c.8-.78.8-2.07 0-2.86zM5.41 20L4 18.59l7.72-7.72 1.47 1.35L5.41 20z\"/>\n",
              "  </svg>\n",
              "      </button>\n",
              "      \n",
              "  <style>\n",
              "    .colab-df-container {\n",
              "      display:flex;\n",
              "      flex-wrap:wrap;\n",
              "      gap: 12px;\n",
              "    }\n",
              "\n",
              "    .colab-df-convert {\n",
              "      background-color: #E8F0FE;\n",
              "      border: none;\n",
              "      border-radius: 50%;\n",
              "      cursor: pointer;\n",
              "      display: none;\n",
              "      fill: #1967D2;\n",
              "      height: 32px;\n",
              "      padding: 0 0 0 0;\n",
              "      width: 32px;\n",
              "    }\n",
              "\n",
              "    .colab-df-convert:hover {\n",
              "      background-color: #E2EBFA;\n",
              "      box-shadow: 0px 1px 2px rgba(60, 64, 67, 0.3), 0px 1px 3px 1px rgba(60, 64, 67, 0.15);\n",
              "      fill: #174EA6;\n",
              "    }\n",
              "\n",
              "    [theme=dark] .colab-df-convert {\n",
              "      background-color: #3B4455;\n",
              "      fill: #D2E3FC;\n",
              "    }\n",
              "\n",
              "    [theme=dark] .colab-df-convert:hover {\n",
              "      background-color: #434B5C;\n",
              "      box-shadow: 0px 1px 3px 1px rgba(0, 0, 0, 0.15);\n",
              "      filter: drop-shadow(0px 1px 2px rgba(0, 0, 0, 0.3));\n",
              "      fill: #FFFFFF;\n",
              "    }\n",
              "  </style>\n",
              "\n",
              "      <script>\n",
              "        const buttonEl =\n",
              "          document.querySelector('#df-ab5702fe-0d70-4726-a08e-5fc6e46c8d97 button.colab-df-convert');\n",
              "        buttonEl.style.display =\n",
              "          google.colab.kernel.accessAllowed ? 'block' : 'none';\n",
              "\n",
              "        async function convertToInteractive(key) {\n",
              "          const element = document.querySelector('#df-ab5702fe-0d70-4726-a08e-5fc6e46c8d97');\n",
              "          const dataTable =\n",
              "            await google.colab.kernel.invokeFunction('convertToInteractive',\n",
              "                                                     [key], {});\n",
              "          if (!dataTable) return;\n",
              "\n",
              "          const docLinkHtml = 'Like what you see? Visit the ' +\n",
              "            '<a target=\"_blank\" href=https://colab.research.google.com/notebooks/data_table.ipynb>data table notebook</a>'\n",
              "            + ' to learn more about interactive tables.';\n",
              "          element.innerHTML = '';\n",
              "          dataTable['output_type'] = 'display_data';\n",
              "          await google.colab.output.renderOutput(dataTable, element);\n",
              "          const docLink = document.createElement('div');\n",
              "          docLink.innerHTML = docLinkHtml;\n",
              "          element.appendChild(docLink);\n",
              "        }\n",
              "      </script>\n",
              "    </div>\n",
              "  </div>\n",
              "  "
            ],
            "text/plain": [
              "   PassengerId  Survived\n",
              "0          892         0\n",
              "1          893         1\n",
              "2          894         0\n",
              "3          895         0\n",
              "4          896         1"
            ]
          },
          "metadata": {},
          "execution_count": 93
        }
      ],
      "source": [
        "submission['Survived'] = pred\n",
        "submission.head()"
      ]
    },
    {
      "cell_type": "code",
      "execution_count": 94,
      "id": "438cec38-3f15-4d0e-b7d4-81122edffd86",
      "metadata": {
        "id": "438cec38-3f15-4d0e-b7d4-81122edffd86"
      },
      "outputs": [],
      "source": [
        "submission.to_csv('dt_submission.csv', index=False)"
      ]
    },
    {
      "cell_type": "markdown",
      "id": "277be385-8dd4-4a39-a758-eb0120cdc4bf",
      "metadata": {
        "id": "277be385-8dd4-4a39-a758-eb0120cdc4bf"
      },
      "source": [
        "본인 깃헙 repository에 과제 코드와 제출한 화면 캡처본을 함께 업로드 해주세요."
      ]
    },
    {
      "cell_type": "markdown",
      "source": [
        "성능 높여보기"
      ],
      "metadata": {
        "id": "MpqK0leRimVB"
      },
      "id": "MpqK0leRimVB"
    },
    {
      "cell_type": "code",
      "execution_count": 94,
      "id": "afa2fe97-f599-452a-bf03-1346d68e69b0",
      "metadata": {
        "id": "afa2fe97-f599-452a-bf03-1346d68e69b0"
      },
      "outputs": [],
      "source": [
        ""
      ]
    }
  ],
  "metadata": {
    "kernelspec": {
      "display_name": "Python 3 (ipykernel)",
      "language": "python",
      "name": "python3"
    },
    "language_info": {
      "codemirror_mode": {
        "name": "ipython",
        "version": 3
      },
      "file_extension": ".py",
      "mimetype": "text/x-python",
      "name": "python",
      "nbconvert_exporter": "python",
      "pygments_lexer": "ipython3",
      "version": "3.7.6"
    },
    "toc-autonumbering": true,
    "colab": {
      "name": "2022-1_ML과제_타이타닉.ipynb",
      "provenance": [],
      "collapsed_sections": []
    }
  },
  "nbformat": 4,
  "nbformat_minor": 5
}